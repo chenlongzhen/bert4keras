{
 "cells": [
  {
   "cell_type": "code",
   "execution_count": 1,
   "id": "24997b34-903f-455a-9446-cb160f498ed0",
   "metadata": {},
   "outputs": [],
   "source": [
    "import warnings\n",
    "warnings.filterwarnings(\"ignore\")\n",
    "from datetime import datetime\n",
    "import os,sys\n",
    "import jieba\n",
    "import pickle\n",
    "import pandas as pd\n",
    "sys.path.append('../')"
   ]
  },
  {
   "cell_type": "code",
   "execution_count": 2,
   "id": "9f209438-a7de-4962-bb3c-a3e5901c8eae",
   "metadata": {},
   "outputs": [
    {
     "name": "stderr",
     "output_type": "stream",
     "text": [
      "Using TensorFlow backend.\n"
     ]
    }
   ],
   "source": [
    "import json\n",
    "import numpy as np\n",
    "from bert4keras.backend import keras, K\n",
    "from bert4keras.backend import multilabel_categorical_crossentropy\n",
    "from bert4keras.layers import GlobalPointer\n",
    "from bert4keras.models import build_transformer_model\n",
    "from bert4keras.tokenizers import Tokenizer\n",
    "from bert4keras.optimizers import Adam\n",
    "from bert4keras.snippets import sequence_padding, DataGenerator\n",
    "from bert4keras.snippets import open, to_array\n",
    "from keras.models import Model\n",
    "from tqdm import tqdm"
   ]
  },
  {
   "cell_type": "code",
   "execution_count": 3,
   "id": "30c2ff70-5307-428b-a4da-794e95933cb2",
   "metadata": {},
   "outputs": [],
   "source": [
    "maxlen = 256\n",
    "epochs = 1 #10\n",
    "batch_size = 16\n",
    "learning_rate = 2e-5\n",
    "categories = set()\n",
    "\n",
    "# bert配置\n",
    "config_path = './base_model/chinese_L-12_H-768_A-12/bert_config.json'\n",
    "checkpoint_path = './base_model/chinese_L-12_H-768_A-12/bert_model.ckpt'\n",
    "dict_path = './base_model/chinese_L-12_H-768_A-12/vocab.txt'"
   ]
  },
  {
   "cell_type": "code",
   "execution_count": 4,
   "id": "afd6be15-fe9c-4879-b87a-c9298404221f",
   "metadata": {
    "scrolled": true,
    "tags": []
   },
   "outputs": [
    {
     "name": "stderr",
     "output_type": "stream",
     "text": [
      "100%|███████████████████████████████████████████████████████████████████████████████████████████████████████████████████████████████████████████████████████| 40001/40001 [00:01<00:00, 23110.29it/s]\n",
      "100%|███████████████████████████████████████████████████████████████████████████████████████████████████████████████████████████████████████████████████████| 40001/40001 [00:01<00:00, 25507.70it/s]\n",
      "100%|███████████████████████████████████████████████████████████████████████████████████████████████████████████████████████████████████████████████████████| 40001/40001 [00:01<00:00, 28714.94it/s]\n"
     ]
    }
   ],
   "source": [
    "def load_data(filename):\n",
    "    \"\"\"加载数据\n",
    "    单条格式：[text, (start, end, label), (start, end, label), ...]，\n",
    "              意味着text[start:end + 1]是类型为label的实体。\n",
    "    \"\"\"\n",
    "    D = []\n",
    "    with open(filename, encoding='utf-8') as f:\n",
    "        f = f.read()\n",
    "        for l in tqdm(f.split('\\n\\n')):\n",
    "            if not l:\n",
    "                continue\n",
    "            d = ['']\n",
    "            for i, c in enumerate(l.split('\\n')):\n",
    "                segs = c.split(' ')\n",
    "                if len(segs) != 2:\n",
    "                    segs = segs[1:]\n",
    "                    continue\n",
    "                char, flag = segs\n",
    "                d[0] += char\n",
    "                if flag[0] == 'B':\n",
    "                    d.append([i, i, flag[2:]])\n",
    "                    categories.add(flag[2:])\n",
    "                elif flag[0] == 'I':\n",
    "                    d[-1][1] = i\n",
    "            D.append(d)\n",
    "    return D\n",
    "\n",
    "\n",
    "# 标注数据\n",
    "# train_data = load_data('./data/paperdaily_data/example.train')\n",
    "# valid_data= load_data('./data/paperdaily_data/example.dev')\n",
    "# test_data = load_data('./data/paperdaily_data/example.test')\n",
    "\n",
    "train_data = load_data('./data/train_data/train.txt')\n",
    "valid_data= load_data('./data/train_data/train.txt')\n",
    "test_data = load_data('./data/train_data/train.txt')\n",
    "\n",
    "categories = list(sorted(categories))"
   ]
  },
  {
   "cell_type": "code",
   "execution_count": 5,
   "id": "5628a456-dd58-476d-944c-491a4bb8d9c1",
   "metadata": {
    "scrolled": true,
    "tags": []
   },
   "outputs": [
    {
     "data": {
      "text/plain": [
       "[['手机三脚架网红直播支架桌面自拍杆蓝牙遥控三脚架摄影拍摄拍照抖音看电视神器三角架便携伸缩懒人户外支撑架【女神粉】自带三脚架+蓝牙遥控',\n",
       "  [0, 1, '40'],\n",
       "  [2, 4, '4'],\n",
       "  [5, 6, '14'],\n",
       "  [7, 8, '5'],\n",
       "  [9, 10, '4'],\n",
       "  [11, 12, '7'],\n",
       "  [13, 15, '4'],\n",
       "  [16, 17, '11'],\n",
       "  [18, 19, '11'],\n",
       "  [20, 22, '4'],\n",
       "  [23, 24, '5'],\n",
       "  [25, 26, '5'],\n",
       "  [27, 28, '5'],\n",
       "  [29, 30, '13'],\n",
       "  [31, 35, '4'],\n",
       "  [36, 38, '4'],\n",
       "  [39, 40, '11'],\n",
       "  [41, 42, '11'],\n",
       "  [43, 44, '8'],\n",
       "  [45, 46, '7'],\n",
       "  [47, 49, '4'],\n",
       "  [52, 54, '16'],\n",
       "  [58, 60, '4'],\n",
       "  [62, 63, '11'],\n",
       "  [64, 65, '11']]]"
      ]
     },
     "execution_count": 5,
     "metadata": {},
     "output_type": "execute_result"
    }
   ],
   "source": [
    "train_data[:1]"
   ]
  },
  {
   "cell_type": "code",
   "execution_count": 6,
   "id": "a66aa9c5-7dd0-4e86-8c5e-8746e08d2fc3",
   "metadata": {},
   "outputs": [],
   "source": [
    "# 建立分词器\n",
    "tokenizer = Tokenizer(dict_path, do_lower_case=True)"
   ]
  },
  {
   "cell_type": "code",
   "execution_count": 7,
   "id": "e8a6b633-c444-4d89-9ee4-72ff6b33d85f",
   "metadata": {},
   "outputs": [],
   "source": [
    "\n",
    "class data_generator(DataGenerator):\n",
    "    \"\"\"数据生成器\n",
    "    \"\"\"\n",
    "    def __iter__(self, random=False):\n",
    "        batch_token_ids, batch_segment_ids, batch_labels = [], [], []\n",
    "        for is_end, d in self.sample(random):\n",
    "            tokens = tokenizer.tokenize(d[0], maxlen=maxlen)\n",
    "            mapping = tokenizer.rematch(d[0], tokens)\n",
    "            start_mapping = {j[0]: i for i, j in enumerate(mapping) if j}\n",
    "            end_mapping = {j[-1]: i for i, j in enumerate(mapping) if j}\n",
    "            token_ids = tokenizer.tokens_to_ids(tokens)\n",
    "            segment_ids = [0] * len(token_ids)\n",
    "            labels = np.zeros((len(categories), maxlen, maxlen))\n",
    "            for start, end, label in d[1:]:\n",
    "                if start in start_mapping and end in end_mapping:\n",
    "                    start = start_mapping[start]\n",
    "                    end = end_mapping[end]\n",
    "                    label = categories.index(label)\n",
    "                    labels[label, start, end] = 1\n",
    "            batch_token_ids.append(token_ids)\n",
    "            batch_segment_ids.append(segment_ids)\n",
    "            batch_labels.append(labels[:, :len(token_ids), :len(token_ids)])\n",
    "            if len(batch_token_ids) == self.batch_size or is_end:\n",
    "                batch_token_ids = sequence_padding(batch_token_ids)\n",
    "                batch_segment_ids = sequence_padding(batch_segment_ids)\n",
    "                batch_labels = sequence_padding(batch_labels, seq_dims=3)\n",
    "                yield [batch_token_ids, batch_segment_ids], batch_labels\n",
    "                batch_token_ids, batch_segment_ids, batch_labels = [], [], []\n"
   ]
  },
  {
   "cell_type": "code",
   "execution_count": 8,
   "id": "69f4732d-ef46-4fef-abaa-e82a9c50025f",
   "metadata": {},
   "outputs": [],
   "source": [
    "\n",
    "def global_pointer_crossentropy(y_true, y_pred):\n",
    "    \"\"\"给GlobalPointer设计的交叉熵\n",
    "    \"\"\"\n",
    "    bh = K.prod(K.shape(y_pred)[:2])\n",
    "    y_true = K.reshape(y_true, (bh, -1))\n",
    "    y_pred = K.reshape(y_pred, (bh, -1))\n",
    "    return K.mean(multilabel_categorical_crossentropy(y_true, y_pred))\n",
    "\n",
    "\n",
    "def global_pointer_f1_score(y_true, y_pred):\n",
    "    \"\"\"给GlobalPointer设计的F1\n",
    "    \"\"\"\n",
    "    y_pred = K.cast(K.greater(y_pred, 0), K.floatx())\n",
    "    return 2 * K.sum(y_true * y_pred) / K.sum(y_true + y_pred)"
   ]
  },
  {
   "cell_type": "code",
   "execution_count": null,
   "id": "ab6d4718-2da8-458d-908d-228daa38bc71",
   "metadata": {},
   "outputs": [],
   "source": [
    "model = build_transformer_model(config_path, checkpoint_path)\n",
    "output = GlobalPointer(len(categories), 64)(model.output)"
   ]
  },
  {
   "cell_type": "code",
   "execution_count": null,
   "id": "84647391-c235-4710-9ff9-abddce0379ed",
   "metadata": {
    "scrolled": true,
    "tags": []
   },
   "outputs": [],
   "source": [
    "model = Model(model.input, output)\n",
    "model.summary()"
   ]
  },
  {
   "cell_type": "code",
   "execution_count": null,
   "id": "15a57534-d757-43da-873b-faecfbc5c704",
   "metadata": {},
   "outputs": [],
   "source": [
    "\n",
    "model.compile(\n",
    "    loss=global_pointer_crossentropy,\n",
    "    optimizer=Adam(learning_rate),\n",
    "    metrics=[global_pointer_f1_score] \n",
    ")"
   ]
  },
  {
   "cell_type": "code",
   "execution_count": null,
   "id": "7507f971-73f7-44c5-a1ba-d727c0dee8af",
   "metadata": {},
   "outputs": [],
   "source": [
    "\n",
    "class NamedEntityRecognizer(object):\n",
    "    \"\"\"命名实体识别器\n",
    "    \"\"\"\n",
    "    def recognize(self, text, threshold=0):\n",
    "        tokens = tokenizer.tokenize(text, maxlen=512)\n",
    "        mapping = tokenizer.rematch(text, tokens)\n",
    "        token_ids = tokenizer.tokens_to_ids(tokens)\n",
    "        segment_ids = [0] * len(token_ids)\n",
    "        token_ids, segment_ids = to_array([token_ids], [segment_ids])\n",
    "        scores = model.predict([token_ids, segment_ids])[0]\n",
    "        scores[:, [0, -1]] -= np.inf\n",
    "        scores[:, :, [0, -1]] -= np.inf\n",
    "        entities = []\n",
    "        for l, start, end in zip(*np.where(scores > threshold)):\n",
    "            entities.append(\n",
    "                (mapping[start][0], mapping[end][-1], categories[l])\n",
    "            )\n",
    "        return entities\n",
    "\n",
    "NER = NamedEntityRecognizer()"
   ]
  },
  {
   "cell_type": "code",
   "execution_count": null,
   "id": "0868be94-2940-40fd-afa9-a2e8db1b3270",
   "metadata": {},
   "outputs": [],
   "source": [
    "\n",
    "def evaluate(data):\n",
    "    \"\"\"评测函数\n",
    "    \"\"\"\n",
    "    X, Y, Z = 1e-10, 1e-10, 1e-10\n",
    "    for d in tqdm(data, ncols=100):\n",
    "        R = set(NER.recognize(d[0]))\n",
    "        T = set([tuple(i) for i in d[1:]])\n",
    "        X += len(R & T)\n",
    "        Y += len(R)\n",
    "        Z += len(T)\n",
    "    f1, precision, recall = 2 * X / (Y + Z), X / Y, X / Z\n",
    "    return f1, precision, recall"
   ]
  },
  {
   "cell_type": "code",
   "execution_count": null,
   "id": "43cf64dd-7f00-49bb-a13a-451c40a5501f",
   "metadata": {},
   "outputs": [],
   "source": [
    "class Evaluator(keras.callbacks.Callback):\n",
    "    \"\"\"评估与保存\n",
    "    \"\"\"\n",
    "    def __init__(self):\n",
    "        self.best_val_f1 = 0\n",
    "\n",
    "    def on_epoch_end(self, epoch, logs=None):\n",
    "        datestr = datetime.now().strftime(format='%Y-%m-%d-%H')\n",
    "        f1, precision, recall = evaluate(valid_data)\n",
    "        # 保存最优\n",
    "        if f1 >= self.best_val_f1:\n",
    "            self.best_val_f1 = f1\n",
    "            model.save_weights(f'./model/best_model_peopledaily_globalpointer_{datestr}.weights')\n",
    "        print(\n",
    "            'valid:  f1: %.5f, precision: %.5f, recall: %.5f, best f1: %.5f\\n' %\n",
    "            (f1, precision, recall, self.best_val_f1)\n",
    "        )\n",
    "        f1, precision, recall = evaluate(test_data)\n",
    "        print(\n",
    "            'test:  f1: %.5f, precision: %.5f, recall: %.5f\\n' %\n",
    "            (f1, precision, recall)\n",
    "        )"
   ]
  },
  {
   "cell_type": "code",
   "execution_count": null,
   "id": "eade7fb4-42e4-475f-b6d9-7af5b38ca0ce",
   "metadata": {},
   "outputs": [],
   "source": [
    "# train\n",
    "evaluator = Evaluator()\n",
    "train_generator = data_generator(train_data, batch_size)\n",
    "\n",
    "model.fit(\n",
    "    train_generator.forfit(),\n",
    "    steps_per_epoch=len(train_generator),\n",
    "    epochs=epochs,\n",
    "    callbacks=[evaluator]\n",
    ")"
   ]
  },
  {
   "cell_type": "code",
   "execution_count": null,
   "id": "9afbe3c8-f127-43e0-9980-43378a7ad008",
   "metadata": {},
   "outputs": [],
   "source": [
    "100 % 10"
   ]
  },
  {
   "cell_type": "code",
   "execution_count": null,
   "id": "feb88c28-0b0f-4064-a01e-d786923a5825",
   "metadata": {},
   "outputs": [],
   "source": []
  },
  {
   "cell_type": "code",
   "execution_count": null,
   "id": "f43a5342-5606-4427-87e9-6e8e900b637b",
   "metadata": {},
   "outputs": [],
   "source": []
  },
  {
   "cell_type": "code",
   "execution_count": null,
   "id": "8600b498-cdba-420c-8235-68a44c36d199",
   "metadata": {},
   "outputs": [],
   "source": []
  },
  {
   "cell_type": "code",
   "execution_count": null,
   "id": "d64ba409-073c-4149-8097-e36febf595bf",
   "metadata": {},
   "outputs": [],
   "source": []
  }
 ],
 "metadata": {
  "kernelspec": {
   "display_name": "Python 3 (ipykernel)",
   "language": "python",
   "name": "python3"
  },
  "language_info": {
   "codemirror_mode": {
    "name": "ipython",
    "version": 3
   },
   "file_extension": ".py",
   "mimetype": "text/x-python",
   "name": "python",
   "nbconvert_exporter": "python",
   "pygments_lexer": "ipython3",
   "version": "3.7.13"
  }
 },
 "nbformat": 4,
 "nbformat_minor": 5
}
