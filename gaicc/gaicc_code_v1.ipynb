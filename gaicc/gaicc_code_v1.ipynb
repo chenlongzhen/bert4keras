{
 "cells": [
  {
   "cell_type": "code",
   "execution_count": null,
   "id": "24997b34-903f-455a-9446-cb160f498ed0",
   "metadata": {},
   "outputs": [],
   "source": [
    "# tf == 2.1.x\n",
    "# keras == 2.3.1\n",
    "import warnings\n",
    "warnings.filterwarnings(\"ignore\")\n",
    "from datetime import datetime\n",
    "import os,sys\n",
    "import jieba\n",
    "import pickle\n",
    "import pandas as pd\n",
    "sys.path.append('../')"
   ]
  },
  {
   "cell_type": "code",
   "execution_count": null,
   "id": "9f209438-a7de-4962-bb3c-a3e5901c8eae",
   "metadata": {},
   "outputs": [],
   "source": [
    "import json\n",
    "import numpy as np\n",
    "from bert4keras.backend import keras, K\n",
    "from bert4keras.backend import multilabel_categorical_crossentropy\n",
    "#from bert4keras.layers import GlobalPointer\n",
    "from bert4keras.layers import EfficientGlobalPointer as GlobalPointer #gp优化版本\n",
    "from bert4keras.models import build_transformer_model\n",
    "from bert4keras.tokenizers import Tokenizer\n",
    "from bert4keras.optimizers import Adam\n",
    "from bert4keras.snippets import sequence_padding, DataGenerator\n",
    "from bert4keras.snippets import open, to_array\n",
    "from keras.models import Model\n",
    "from tqdm import tqdm"
   ]
  },
  {
   "cell_type": "code",
   "execution_count": null,
   "id": "30c2ff70-5307-428b-a4da-794e95933cb2",
   "metadata": {},
   "outputs": [],
   "source": [
    "maxlen = 256\n",
    "epochs = 1 #10\n",
    "batch_size = 16\n",
    "learning_rate = 2e-5\n",
    "categories = set()\n",
    "\n",
    "# base model配置\n",
    "tag = 'chinese_L-12_H-768_A-12'\n",
    "tag = 'NEZHA-base'\n",
    "tag = 'NEZHA-Large-WWM'\n",
    "config_path = f'./base_model/{tag}/bert_config.json'\n",
    "checkpoint_path = f'./base_model/{tag}/model.ckpt-346400'  #注意修改这里  NEZHA-Large-WWM  fit报错\n",
    "dict_path = f'./base_model/{tag}/vocab.txt'"
   ]
  },
  {
   "cell_type": "markdown",
   "id": "ca62c632-e9c1-41b4-ba52-1df0b8abba9c",
   "metadata": {
    "tags": []
   },
   "source": [
    "# 1 ner数据解析"
   ]
  },
  {
   "cell_type": "code",
   "execution_count": null,
   "id": "61dbf935-ca9e-4c65-aa09-5f41067596a7",
   "metadata": {
    "scrolled": true,
    "tags": []
   },
   "outputs": [],
   "source": [
    "def load_data(filename):\n",
    "    \"\"\"加载数据\n",
    "    单条格式：[text, (start, end, label), (start, end, label), ...]，\n",
    "              意味着text[start:end + 1]是类型为label的实体。\n",
    "    \"\"\"\n",
    "    D = []\n",
    "    with open(filename, encoding='utf-8') as f:\n",
    "        f = f.read()\n",
    "        for l in tqdm(f.split('\\n\\n')):\n",
    "            if not l:\n",
    "                continue\n",
    "            d = ['']\n",
    "            #print(l.split('\\n')[:1000])\n",
    "            for i, c in enumerate(l.split('\\n')):                \n",
    "                segs = c.split(' ')\n",
    "                if len(segs) != 2:\n",
    "                    char, flag = [' ','O'] # ‘ ’ O 处理\n",
    "                else:   \n",
    "                    char, flag = segs\n",
    "                d[0] += char\n",
    "                if flag[0] == 'B':\n",
    "                    d.append([i, i, flag[2:]])\n",
    "                    categories.add(flag[2:])\n",
    "                elif flag[0] == 'I':\n",
    "                    d[-1][1] = i\n",
    "            D.append(d)\n",
    "    return D\n",
    "\n",
    "\n",
    "# 标注数据\n",
    "# train_data = load_data('./data/paperdaily_data/example.train')\n",
    "# valid_data= load_data('./data/paperdaily_data/example.dev')\n",
    "# test_data = load_data('./data/paperdaily_data/example.test')\n",
    "\n",
    "train_data = load_data('./data/train_data/train.txt')\n",
    "valid_data= load_data('./data/train_data/train.txt')\n",
    "test_data = load_data('./data/train_data/train.txt')\n",
    "\n",
    "categories = list(sorted(categories))"
   ]
  },
  {
   "cell_type": "code",
   "execution_count": null,
   "id": "c3ab0e53-a37f-4325-bb2e-702a6cd4dd2f",
   "metadata": {
    "scrolled": true,
    "tags": []
   },
   "outputs": [],
   "source": [
    "train_data[:1]"
   ]
  },
  {
   "cell_type": "code",
   "execution_count": null,
   "id": "4ee5d5e1-b424-429f-84d4-062e98fa46ae",
   "metadata": {
    "scrolled": true,
    "tags": []
   },
   "outputs": [],
   "source": [
    "categories"
   ]
  },
  {
   "cell_type": "markdown",
   "id": "3263f525-870c-4023-83b5-58b6b2398fb5",
   "metadata": {},
   "source": [
    "# 2 model构建"
   ]
  },
  {
   "cell_type": "code",
   "execution_count": null,
   "id": "f7ab2d0a-026e-4063-bd95-d01adb8a0ecf",
   "metadata": {},
   "outputs": [],
   "source": [
    "# 建立分词器\n",
    "tokenizer = Tokenizer(dict_path, do_lower_case=True)"
   ]
  },
  {
   "cell_type": "code",
   "execution_count": null,
   "id": "e8a6b633-c444-4d89-9ee4-72ff6b33d85f",
   "metadata": {},
   "outputs": [],
   "source": [
    "\n",
    "class data_generator(DataGenerator):\n",
    "    \"\"\"数据生成器\n",
    "    \"\"\"\n",
    "    def __iter__(self, random=False):\n",
    "        batch_token_ids, batch_segment_ids, batch_labels = [], [], []\n",
    "        for is_end, d in self.sample(random):\n",
    "            tokens = tokenizer.tokenize(d[0], maxlen=maxlen)\n",
    "            mapping = tokenizer.rematch(d[0], tokens)\n",
    "            start_mapping = {j[0]: i for i, j in enumerate(mapping) if j}\n",
    "            end_mapping = {j[-1]: i for i, j in enumerate(mapping) if j}\n",
    "            token_ids = tokenizer.tokens_to_ids(tokens)\n",
    "            segment_ids = [0] * len(token_ids)\n",
    "            labels = np.zeros((len(categories), maxlen, maxlen))\n",
    "            for start, end, label in d[1:]:\n",
    "                if start in start_mapping and end in end_mapping:\n",
    "                    start = start_mapping[start]\n",
    "                    end = end_mapping[end]\n",
    "                    label = categories.index(label)\n",
    "                    labels[label, start, end] = 1\n",
    "            batch_token_ids.append(token_ids)\n",
    "            batch_segment_ids.append(segment_ids)\n",
    "            batch_labels.append(labels[:, :len(token_ids), :len(token_ids)])\n",
    "            if len(batch_token_ids) == self.batch_size or is_end:\n",
    "                batch_token_ids = sequence_padding(batch_token_ids)\n",
    "                batch_segment_ids = sequence_padding(batch_segment_ids)\n",
    "                batch_labels = sequence_padding(batch_labels, seq_dims=3)\n",
    "                yield [batch_token_ids, batch_segment_ids], batch_labels\n",
    "                batch_token_ids, batch_segment_ids, batch_labels = [], [], []\n"
   ]
  },
  {
   "cell_type": "code",
   "execution_count": null,
   "id": "69f4732d-ef46-4fef-abaa-e82a9c50025f",
   "metadata": {},
   "outputs": [],
   "source": [
    "\n",
    "def global_pointer_crossentropy(y_true, y_pred):\n",
    "    \"\"\"给GlobalPointer设计的交叉熵\n",
    "    \"\"\"\n",
    "    bh = K.prod(K.shape(y_pred)[:2])\n",
    "    y_true = K.reshape(y_true, (bh, -1))\n",
    "    y_pred = K.reshape(y_pred, (bh, -1))\n",
    "    return K.mean(multilabel_categorical_crossentropy(y_true, y_pred))\n",
    "\n",
    "\n",
    "def global_pointer_f1_score(y_true, y_pred):\n",
    "    \"\"\"给GlobalPointer设计的F1\n",
    "    \"\"\"\n",
    "    y_pred = K.cast(K.greater(y_pred, 0), K.floatx())\n",
    "    return 2 * K.sum(y_true * y_pred) / K.sum(y_true + y_pred)"
   ]
  },
  {
   "cell_type": "code",
   "execution_count": null,
   "id": "ab6d4718-2da8-458d-908d-228daa38bc71",
   "metadata": {},
   "outputs": [],
   "source": [
    "model = build_transformer_model(config_path, checkpoint_path, model='NEZHA') \n",
    "# 加载完毕不同模型，需要指明model 支持的模型具体参考 https://github.com/chenlongzhen/bert4keras/blob/master/bert4keras/models.py#L2646\n",
    "# model = build_transformer_model(config_path, checkpoint_path, model='BERT')\n",
    "output = GlobalPointer(len(categories), 64)(model.output)"
   ]
  },
  {
   "cell_type": "code",
   "execution_count": null,
   "id": "84647391-c235-4710-9ff9-abddce0379ed",
   "metadata": {
    "scrolled": true,
    "tags": []
   },
   "outputs": [],
   "source": [
    "model = Model(model.input, output)\n",
    "model.summary()"
   ]
  },
  {
   "cell_type": "code",
   "execution_count": null,
   "id": "af54a753-3a2c-4ccb-b4c7-b400eee7ec85",
   "metadata": {},
   "outputs": [],
   "source": [
    "model.compile(\n",
    "    loss=global_pointer_crossentropy,\n",
    "    optimizer=Adam(learning_rate),\n",
    "    metrics=[global_pointer_f1_score] \n",
    ")"
   ]
  },
  {
   "cell_type": "markdown",
   "id": "e0cb36ef-0a4d-4869-bfc1-21dbbf6a142b",
   "metadata": {},
   "source": [
    "# 3 训练"
   ]
  },
  {
   "cell_type": "code",
   "execution_count": null,
   "id": "7507f971-73f7-44c5-a1ba-d727c0dee8af",
   "metadata": {},
   "outputs": [],
   "source": [
    "class NamedEntityRecognizer(object):\n",
    "    \"\"\"命名实体识别器\n",
    "    \"\"\"\n",
    "    def recognize(self, text, threshold=0):\n",
    "        tokens = tokenizer.tokenize(text, maxlen=512)\n",
    "        mapping = tokenizer.rematch(text, tokens)\n",
    "        token_ids = tokenizer.tokens_to_ids(tokens)\n",
    "        segment_ids = [0] * len(token_ids)\n",
    "        token_ids, segment_ids = to_array([token_ids], [segment_ids])\n",
    "        scores = model.predict([token_ids, segment_ids])[0]\n",
    "        #print(scores)\n",
    "        scores[:, [0, -1]] -= np.inf\n",
    "        scores[:, :, [0, -1]] -= np.inf\n",
    "        entities = []\n",
    "        for l, start, end in zip(*np.where(scores > threshold)):\n",
    "            entities.append(\n",
    "                (mapping[start][0], mapping[end][-1], categories[l])\n",
    "            )\n",
    "            \n",
    "        # TODO: clz 对于嵌套ner的问题 取p最大的\n",
    "        return entities\n",
    "\n",
    "NER = NamedEntityRecognizer()"
   ]
  },
  {
   "cell_type": "code",
   "execution_count": null,
   "id": "0868be94-2940-40fd-afa9-a2e8db1b3270",
   "metadata": {},
   "outputs": [],
   "source": [
    "def evaluate(data):\n",
    "    \"\"\"评测函数\n",
    "    \"\"\"\n",
    "    X, Y, Z = 1e-10, 1e-10, 1e-10\n",
    "    for d in tqdm(data, ncols=100):\n",
    "        R = set(NER.recognize(d[0]))\n",
    "        T = set([tuple(i) for i in d[1:]])\n",
    "        X += len(R & T)\n",
    "        Y += len(R)\n",
    "        Z += len(T)\n",
    "    f1, precision, recall = 2 * X / (Y + Z), X / Y, X / Z\n",
    "    return f1, precision, recall"
   ]
  },
  {
   "cell_type": "code",
   "execution_count": null,
   "id": "43cf64dd-7f00-49bb-a13a-451c40a5501f",
   "metadata": {},
   "outputs": [],
   "source": [
    "class Evaluator(keras.callbacks.Callback):\n",
    "    \"\"\"评估与保存\n",
    "    \"\"\"\n",
    "    def __init__(self):\n",
    "        self.best_val_f1 = 0\n",
    "\n",
    "    # def on_epoch_end(self, epoch, logs=None):\n",
    "    #     datestr = datetime.now().strftime(format='%Y-%m-%d-%H')\n",
    "    #     f1, precision, recall = evaluate(valid_data)\n",
    "    #     # 保存最优\n",
    "    #     if f1 >= self.best_val_f1:\n",
    "    #         self.best_val_f1 = f1\n",
    "    #         model.save_weights(f'./model/best_model_peopledaily_globalpointer_{datestr}.weights')\n",
    "    #     print(\n",
    "    #         'valid:  f1: %.5f, precision: %.5f, recall: %.5f, best f1: %.5f\\n' %\n",
    "    #         (f1, precision, recall, self.best_val_f1)\n",
    "    #     )\n",
    "    #     f1, precision, recall = evaluate(test_data)\n",
    "    #     print(\n",
    "    #         'test:  f1: %.5f, precision: %.5f, recall: %.5f\\n' %\n",
    "    #         (f1, precision, recall)\n",
    "    #     )\n",
    "    \n",
    "    # fixme: 为了快速测试，实际用上边的 clz\n",
    "    def on_epoch_end(self, epoch, logs=None):\n",
    "        datestr = datetime.now().strftime(format='%Y-%m-%d-%H')\n",
    "        model.save_weights(f'./model/best_model_peopledaily_globalpointer_{datestr}.weights')"
   ]
  },
  {
   "cell_type": "code",
   "execution_count": null,
   "id": "eade7fb4-42e4-475f-b6d9-7af5b38ca0ce",
   "metadata": {
    "tags": []
   },
   "outputs": [],
   "source": [
    "# train\n",
    "evaluator = Evaluator()\n",
    "train_generator = data_generator(train_data, batch_size)\n",
    "\n",
    "model.fit(\n",
    "    train_generator.forfit(),\n",
    "    steps_per_epoch= len(train_generator), #len(train_generator),\n",
    "    epochs=epochs,\n",
    "    callbacks=[evaluator]\n",
    ")"
   ]
  },
  {
   "cell_type": "markdown",
   "id": "bdce10e6-4833-490f-a15b-e56a4d5a3ea7",
   "metadata": {},
   "source": [
    "# 4 predict 为提交格式"
   ]
  },
  {
   "cell_type": "code",
   "execution_count": null,
   "id": "f43a5342-5606-4427-87e9-6e8e900b637b",
   "metadata": {},
   "outputs": [],
   "source": [
    "# pip install h5py==2.10.0\n",
    "model.load_weights('./model/best_model_peopledaily_globalpointer_2022-04-05-12.weights')"
   ]
  },
  {
   "cell_type": "code",
   "execution_count": null,
   "id": "8600b498-cdba-420c-8235-68a44c36d199",
   "metadata": {
    "scrolled": true,
    "tags": []
   },
   "outputs": [],
   "source": [
    "def predict_test(data):\n",
    "    \"\"\"评测函数\n",
    "    \"\"\"\n",
    "    X, Y, Z = 1e-10, 1e-10, 1e-10\n",
    "    result = [] # [test, [(pred)]]\n",
    "    for d in tqdm(data, ncols=100):\n",
    "        R = list(set(NER.recognize(d[0])))\n",
    "        R = sorted(R, key=lambda x: x[0])\n",
    "        result.append([d[0], R])\n",
    "    return result\n",
    "def decode_predict(data):\n",
    "    \"\"\"\n",
    "    \"\"\"\n",
    "    result = []\n",
    "    for sample in data:\n",
    "        one_sample = [] # [[char, tag]] \n",
    "        test = sample[0]\n",
    "        predict = sample[1]\n",
    "        for ch in test:\n",
    "            one_sample.append([ch,'O'])\n",
    "        for pred in predict:\n",
    "            begin_idx = pred[0]\n",
    "            end_idx   = pred[1]\n",
    "            tag       = pred[2]\n",
    "            # 标注BI\n",
    "            one_sample[begin_idx][1] = f'B-{tag}'\n",
    "            for idx in range(begin_idx+1, end_idx+1):\n",
    "                one_sample[idx][1] = f'I-{tag}'\n",
    "        result.append(one_sample)\n",
    "    return result\n",
    "\n",
    "def result_write(data, path = './data/result/text.txt'):\n",
    "    \"\"\"\n",
    "    \"\"\"\n",
    "    with open(path, 'w') as f:\n",
    "        for one_sample in data:\n",
    "            for one_char in one_sample:\n",
    "                f.write(f'{one_char[0]} {one_char[1]}\\n')\n",
    "            f.write('\\n')\n",
    "# main predict func\n",
    "        \n",
    "res = predict_test(test_data[:10])\n",
    "res = decode_predict(res)\n",
    "result_write(res)    "
   ]
  },
  {
   "cell_type": "code",
   "execution_count": null,
   "id": "d64ba409-073c-4149-8097-e36febf595bf",
   "metadata": {},
   "outputs": [],
   "source": [
    "\n",
    "    \n",
    "\n",
    "\n",
    "    "
   ]
  },
  {
   "cell_type": "code",
   "execution_count": null,
   "id": "ade5aa23-4a3a-428e-9da0-1a2ea9c5eb37",
   "metadata": {},
   "outputs": [],
   "source": []
  },
  {
   "cell_type": "code",
   "execution_count": null,
   "id": "89b2b213-555d-46f3-9b37-11e3ff323675",
   "metadata": {},
   "outputs": [],
   "source": []
  }
 ],
 "metadata": {
  "kernelspec": {
   "display_name": "Python 3 (ipykernel)",
   "language": "python",
   "name": "python3"
  },
  "language_info": {
   "codemirror_mode": {
    "name": "ipython",
    "version": 3
   },
   "file_extension": ".py",
   "mimetype": "text/x-python",
   "name": "python",
   "nbconvert_exporter": "python",
   "pygments_lexer": "ipython3",
   "version": "3.7.13"
  }
 },
 "nbformat": 4,
 "nbformat_minor": 5
}
